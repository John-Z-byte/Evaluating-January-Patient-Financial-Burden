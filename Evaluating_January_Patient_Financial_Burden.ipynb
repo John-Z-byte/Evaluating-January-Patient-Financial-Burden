{
  "nbformat": 4,
  "nbformat_minor": 0,
  "metadata": {
    "colab": {
      "provenance": [],
      "authorship_tag": "ABX9TyP01iaicoZkksMK58KP7UE6",
      "include_colab_link": true
    },
    "kernelspec": {
      "name": "python3",
      "display_name": "Python 3"
    },
    "language_info": {
      "name": "python"
    }
  },
  "cells": [
    {
      "cell_type": "markdown",
      "metadata": {
        "id": "view-in-github",
        "colab_type": "text"
      },
      "source": [
        "<a href=\"https://colab.research.google.com/github/John-Z-byte/Evaluating-January-Patient-Financial-Burden/blob/main/Evaluating_January_Patient_Financial_Burden.ipynb\" target=\"_parent\"><img src=\"https://colab.research.google.com/assets/colab-badge.svg\" alt=\"Open In Colab\"/></a>"
      ]
    },
    {
      "cell_type": "code",
      "execution_count": 1,
      "metadata": {
        "colab": {
          "base_uri": "https://localhost:8080/"
        },
        "collapsed": true,
        "id": "fuJHXg-LkqkB",
        "outputId": "9155377f-0a28-4de1-a53f-1b157784eb50"
      },
      "outputs": [
        {
          "output_type": "stream",
          "name": "stdout",
          "text": [
            "Requirement already satisfied: openpyxl in /usr/local/lib/python3.11/dist-packages (3.1.5)\n",
            "Requirement already satisfied: et-xmlfile in /usr/local/lib/python3.11/dist-packages (from openpyxl) (2.0.0)\n"
          ]
        }
      ],
      "source": [
        "!pip install openpyxl\n",
        "\n",
        "import pandas as pd\n",
        "import matplotlib.pyplot as plt\n",
        "import seaborn as sns\n",
        "from datetime import datetime\n"
      ]
    },
    {
      "cell_type": "code",
      "source": [
        "from google.colab import files\n",
        "uploaded = files.upload()\n"
      ],
      "metadata": {
        "colab": {
          "base_uri": "https://localhost:8080/",
          "height": 73
        },
        "collapsed": true,
        "id": "eNcDY8qGk4BI",
        "outputId": "77385c25-8dd8-4b4d-96c5-4ffcf0588119"
      },
      "execution_count": 2,
      "outputs": [
        {
          "output_type": "display_data",
          "data": {
            "text/plain": [
              "<IPython.core.display.HTML object>"
            ],
            "text/html": [
              "\n",
              "     <input type=\"file\" id=\"files-c97d7524-e0c8-4a4a-b0d3-7a78d59b799c\" name=\"files[]\" multiple disabled\n",
              "        style=\"border:none\" />\n",
              "     <output id=\"result-c97d7524-e0c8-4a4a-b0d3-7a78d59b799c\">\n",
              "      Upload widget is only available when the cell has been executed in the\n",
              "      current browser session. Please rerun this cell to enable.\n",
              "      </output>\n",
              "      <script>// Copyright 2017 Google LLC\n",
              "//\n",
              "// Licensed under the Apache License, Version 2.0 (the \"License\");\n",
              "// you may not use this file except in compliance with the License.\n",
              "// You may obtain a copy of the License at\n",
              "//\n",
              "//      http://www.apache.org/licenses/LICENSE-2.0\n",
              "//\n",
              "// Unless required by applicable law or agreed to in writing, software\n",
              "// distributed under the License is distributed on an \"AS IS\" BASIS,\n",
              "// WITHOUT WARRANTIES OR CONDITIONS OF ANY KIND, either express or implied.\n",
              "// See the License for the specific language governing permissions and\n",
              "// limitations under the License.\n",
              "\n",
              "/**\n",
              " * @fileoverview Helpers for google.colab Python module.\n",
              " */\n",
              "(function(scope) {\n",
              "function span(text, styleAttributes = {}) {\n",
              "  const element = document.createElement('span');\n",
              "  element.textContent = text;\n",
              "  for (const key of Object.keys(styleAttributes)) {\n",
              "    element.style[key] = styleAttributes[key];\n",
              "  }\n",
              "  return element;\n",
              "}\n",
              "\n",
              "// Max number of bytes which will be uploaded at a time.\n",
              "const MAX_PAYLOAD_SIZE = 100 * 1024;\n",
              "\n",
              "function _uploadFiles(inputId, outputId) {\n",
              "  const steps = uploadFilesStep(inputId, outputId);\n",
              "  const outputElement = document.getElementById(outputId);\n",
              "  // Cache steps on the outputElement to make it available for the next call\n",
              "  // to uploadFilesContinue from Python.\n",
              "  outputElement.steps = steps;\n",
              "\n",
              "  return _uploadFilesContinue(outputId);\n",
              "}\n",
              "\n",
              "// This is roughly an async generator (not supported in the browser yet),\n",
              "// where there are multiple asynchronous steps and the Python side is going\n",
              "// to poll for completion of each step.\n",
              "// This uses a Promise to block the python side on completion of each step,\n",
              "// then passes the result of the previous step as the input to the next step.\n",
              "function _uploadFilesContinue(outputId) {\n",
              "  const outputElement = document.getElementById(outputId);\n",
              "  const steps = outputElement.steps;\n",
              "\n",
              "  const next = steps.next(outputElement.lastPromiseValue);\n",
              "  return Promise.resolve(next.value.promise).then((value) => {\n",
              "    // Cache the last promise value to make it available to the next\n",
              "    // step of the generator.\n",
              "    outputElement.lastPromiseValue = value;\n",
              "    return next.value.response;\n",
              "  });\n",
              "}\n",
              "\n",
              "/**\n",
              " * Generator function which is called between each async step of the upload\n",
              " * process.\n",
              " * @param {string} inputId Element ID of the input file picker element.\n",
              " * @param {string} outputId Element ID of the output display.\n",
              " * @return {!Iterable<!Object>} Iterable of next steps.\n",
              " */\n",
              "function* uploadFilesStep(inputId, outputId) {\n",
              "  const inputElement = document.getElementById(inputId);\n",
              "  inputElement.disabled = false;\n",
              "\n",
              "  const outputElement = document.getElementById(outputId);\n",
              "  outputElement.innerHTML = '';\n",
              "\n",
              "  const pickedPromise = new Promise((resolve) => {\n",
              "    inputElement.addEventListener('change', (e) => {\n",
              "      resolve(e.target.files);\n",
              "    });\n",
              "  });\n",
              "\n",
              "  const cancel = document.createElement('button');\n",
              "  inputElement.parentElement.appendChild(cancel);\n",
              "  cancel.textContent = 'Cancel upload';\n",
              "  const cancelPromise = new Promise((resolve) => {\n",
              "    cancel.onclick = () => {\n",
              "      resolve(null);\n",
              "    };\n",
              "  });\n",
              "\n",
              "  // Wait for the user to pick the files.\n",
              "  const files = yield {\n",
              "    promise: Promise.race([pickedPromise, cancelPromise]),\n",
              "    response: {\n",
              "      action: 'starting',\n",
              "    }\n",
              "  };\n",
              "\n",
              "  cancel.remove();\n",
              "\n",
              "  // Disable the input element since further picks are not allowed.\n",
              "  inputElement.disabled = true;\n",
              "\n",
              "  if (!files) {\n",
              "    return {\n",
              "      response: {\n",
              "        action: 'complete',\n",
              "      }\n",
              "    };\n",
              "  }\n",
              "\n",
              "  for (const file of files) {\n",
              "    const li = document.createElement('li');\n",
              "    li.append(span(file.name, {fontWeight: 'bold'}));\n",
              "    li.append(span(\n",
              "        `(${file.type || 'n/a'}) - ${file.size} bytes, ` +\n",
              "        `last modified: ${\n",
              "            file.lastModifiedDate ? file.lastModifiedDate.toLocaleDateString() :\n",
              "                                    'n/a'} - `));\n",
              "    const percent = span('0% done');\n",
              "    li.appendChild(percent);\n",
              "\n",
              "    outputElement.appendChild(li);\n",
              "\n",
              "    const fileDataPromise = new Promise((resolve) => {\n",
              "      const reader = new FileReader();\n",
              "      reader.onload = (e) => {\n",
              "        resolve(e.target.result);\n",
              "      };\n",
              "      reader.readAsArrayBuffer(file);\n",
              "    });\n",
              "    // Wait for the data to be ready.\n",
              "    let fileData = yield {\n",
              "      promise: fileDataPromise,\n",
              "      response: {\n",
              "        action: 'continue',\n",
              "      }\n",
              "    };\n",
              "\n",
              "    // Use a chunked sending to avoid message size limits. See b/62115660.\n",
              "    let position = 0;\n",
              "    do {\n",
              "      const length = Math.min(fileData.byteLength - position, MAX_PAYLOAD_SIZE);\n",
              "      const chunk = new Uint8Array(fileData, position, length);\n",
              "      position += length;\n",
              "\n",
              "      const base64 = btoa(String.fromCharCode.apply(null, chunk));\n",
              "      yield {\n",
              "        response: {\n",
              "          action: 'append',\n",
              "          file: file.name,\n",
              "          data: base64,\n",
              "        },\n",
              "      };\n",
              "\n",
              "      let percentDone = fileData.byteLength === 0 ?\n",
              "          100 :\n",
              "          Math.round((position / fileData.byteLength) * 100);\n",
              "      percent.textContent = `${percentDone}% done`;\n",
              "\n",
              "    } while (position < fileData.byteLength);\n",
              "  }\n",
              "\n",
              "  // All done.\n",
              "  yield {\n",
              "    response: {\n",
              "      action: 'complete',\n",
              "    }\n",
              "  };\n",
              "}\n",
              "\n",
              "scope.google = scope.google || {};\n",
              "scope.google.colab = scope.google.colab || {};\n",
              "scope.google.colab._files = {\n",
              "  _uploadFiles,\n",
              "  _uploadFilesContinue,\n",
              "};\n",
              "})(self);\n",
              "</script> "
            ]
          },
          "metadata": {}
        },
        {
          "output_type": "stream",
          "name": "stdout",
          "text": [
            "Saving Landing_2025.xlsx to Landing_2025.xlsx\n"
          ]
        }
      ]
    },
    {
      "cell_type": "code",
      "source": [
        "df = pd.read_excel('Landing_2025.xlsx')\n",
        "\n",
        "print(df.head())\n",
        "\n",
        "print(df.info())\n",
        "\n",
        "\n"
      ],
      "metadata": {
        "colab": {
          "base_uri": "https://localhost:8080/"
        },
        "collapsed": true,
        "id": "E5exke1Wk913",
        "outputId": "9ece3019-f941-45a5-a058-b217e5cfb950"
      },
      "execution_count": 3,
      "outputs": [
        {
          "output_type": "stream",
          "name": "stdout",
          "text": [
            "         PATIENT NAME                     MRN        DOB      NUMBER  \\\n",
            "0   Kraft ,  Dennis S  dGoSOLqiJU69hnXtUFexfw 2005-07-09  4329782030   \n",
            "1   Kraft ,  Dennis S  dGoSOLqiJU69hnXtUFexfw 2005-07-09  4329782030   \n",
            "2      Wulff ,  Colin  Kru__863RkSqImKEnluZ0A 2002-05-03  5613020045   \n",
            "3      Wulff ,  Colin  Kru__863RkSqImKEnluZ0A 2002-05-03  5613020045   \n",
            "4  Kover ,  Christine  XziPZmKohk-XKAoxmFEPKA 1974-06-30  2344306740   \n",
            "\n",
            "  DATE ADDED  PATIENT RESPONSIBILITY     TIER INSURENCE COMPANY  \\\n",
            "0 2025-01-22                   35.02   TIER 1              BCBS   \n",
            "1 2025-01-22                   35.02   TIER 1              BCBS   \n",
            "2 2025-01-22                    0.00   TIER 1             Cigna   \n",
            "3 2025-01-22                    0.00   TIER 1             Cigna   \n",
            "4 2025-01-22                    0.00   TIER 1            Humana   \n",
            "\n",
            "                    TYPE  \n",
            "0  Home Sleep Test (HST)  \n",
            "1  Home Sleep Test (HST)  \n",
            "2  Home Sleep Test (HST)  \n",
            "3  Home Sleep Test (HST)  \n",
            "4  Home Sleep Test (HST)  \n",
            "<class 'pandas.core.frame.DataFrame'>\n",
            "RangeIndex: 18424 entries, 0 to 18423\n",
            "Data columns (total 9 columns):\n",
            " #   Column                  Non-Null Count  Dtype         \n",
            "---  ------                  --------------  -----         \n",
            " 0   PATIENT NAME            18424 non-null  object        \n",
            " 1   MRN                     18423 non-null  object        \n",
            " 2   DOB                     18424 non-null  datetime64[ns]\n",
            " 3   NUMBER                  18224 non-null  object        \n",
            " 4   DATE ADDED              18424 non-null  datetime64[ns]\n",
            " 5   PATIENT RESPONSIBILITY  18424 non-null  float64       \n",
            " 6   TIER                    18424 non-null  object        \n",
            " 7   INSURENCE COMPANY       18422 non-null  object        \n",
            " 8   TYPE                    18424 non-null  object        \n",
            "dtypes: datetime64[ns](2), float64(1), object(6)\n",
            "memory usage: 1.3+ MB\n",
            "None\n"
          ]
        }
      ]
    },
    {
      "cell_type": "code",
      "source": [
        "df['PATIENT RESPONSIBILITY'] = df['PATIENT RESPONSIBILITY'].replace({'\\$': '', ',': ''}, regex=True).astype(float)\n"
      ],
      "metadata": {
        "id": "vzH6KhmCVp1x"
      },
      "execution_count": 4,
      "outputs": []
    },
    {
      "cell_type": "code",
      "source": [
        "# Strip any leading/trailing whitespace from the 'TIER' column to ensure consistent formatting\n",
        "df['TIER'] = df['TIER'].str.strip()\n",
        "\n",
        "# Now group by 'TIER' and calculate total and average out-of-pocket revenue\n",
        "tier_summary = df.groupby('TIER')['PATIENT RESPONSIBILITY'].agg(['sum', 'mean']).reset_index()\n",
        "\n",
        "# Renaming the columns for better clarity\n",
        "tier_summary.columns = ['TIER', 'Total Out-of-Pocket Revenue', 'Average Out-of-Pocket Revenue']\n",
        "\n",
        "# Displaying the result\n",
        "print(tier_summary)\n",
        "\n"
      ],
      "metadata": {
        "collapsed": true,
        "colab": {
          "base_uri": "https://localhost:8080/"
        },
        "id": "pJsWXMNPlwOd",
        "outputId": "e737c073-de1a-4c91-9d4e-22fe1a7ef79c"
      },
      "execution_count": 5,
      "outputs": [
        {
          "output_type": "stream",
          "name": "stdout",
          "text": [
            "     TIER  Total Out-of-Pocket Revenue  Average Out-of-Pocket Revenue\n",
            "0  TIER 1                     75849.52                      14.381782\n",
            "1  TIER 2                   1020628.13                     153.178468\n",
            "2  TIER 3                   1977064.07                     304.773250\n"
          ]
        }
      ]
    },
    {
      "cell_type": "code",
      "source": [
        "# Grouping by 'INSURENCE COMPANY' and calculating total and average patient responsibility (out-of-pocket)\n",
        "insurance_summary = df.groupby('INSURENCE COMPANY')['PATIENT RESPONSIBILITY'].agg(['sum', 'mean']).reset_index()\n",
        "\n",
        "# Renaming columns for clarity\n",
        "insurance_summary.columns = ['INSURENCE COMPANY', 'Total Out-of-Pocket Revenue', 'Average Out-of-Pocket Revenue']\n",
        "\n",
        "# Displaying the result\n",
        "print(insurance_summary)\n"
      ],
      "metadata": {
        "colab": {
          "base_uri": "https://localhost:8080/"
        },
        "collapsed": true,
        "id": "WygZzHBxlzJs",
        "outputId": "075d4008-b362-4703-b09b-83a3f65daa38"
      },
      "execution_count": 6,
      "outputs": [
        {
          "output_type": "stream",
          "name": "stdout",
          "text": [
            "      INSURENCE COMPANY  Total Out-of-Pocket Revenue  \\\n",
            "0    90 Degree Benefits                      1066.01   \n",
            "1     AHCCCS Mercy Care                         0.00   \n",
            "2                  APWU                       418.60   \n",
            "3            ASR Health                       171.01   \n",
            "4                 Aetna                    100359.51   \n",
            "..                  ...                          ...   \n",
            "146      Veterans Admin                         0.00   \n",
            "147             Web TPA                      2641.74   \n",
            "148            Wellcare                      1530.00   \n",
            "149             Wellnet                       290.00   \n",
            "150    Zelis Healthcare                       145.00   \n",
            "\n",
            "     Average Out-of-Pocket Revenue  \n",
            "0                       152.287143  \n",
            "1                         0.000000  \n",
            "2                       209.300000  \n",
            "3                       171.010000  \n",
            "4                       134.710752  \n",
            "..                             ...  \n",
            "146                       0.000000  \n",
            "147                     146.763333  \n",
            "148                      26.379310  \n",
            "149                     145.000000  \n",
            "150                     145.000000  \n",
            "\n",
            "[151 rows x 3 columns]\n"
          ]
        }
      ]
    },
    {
      "cell_type": "code",
      "source": [
        "# Converting DOB to datetime format (if necessary)\n",
        "df['DOB'] = pd.to_datetime(df['DOB'], errors='coerce')\n",
        "\n",
        "# Calculating Age\n",
        "df['Age'] = (pd.to_datetime('today') - df['DOB']).dt.days // 365\n",
        "\n",
        "# Display the first few rows to check the 'Age' column\n",
        "print(df[['PATIENT NAME', 'DOB', 'Age']].head())\n"
      ],
      "metadata": {
        "colab": {
          "base_uri": "https://localhost:8080/"
        },
        "id": "KrtYfkxUl5Td",
        "outputId": "af6e146f-641a-4f9f-9ce7-e610072f948e"
      },
      "execution_count": 7,
      "outputs": [
        {
          "output_type": "stream",
          "name": "stdout",
          "text": [
            "         PATIENT NAME        DOB  Age\n",
            "0   Kraft ,  Dennis S 2005-07-09   19\n",
            "1   Kraft ,  Dennis S 2005-07-09   19\n",
            "2      Wulff ,  Colin 2002-05-03   22\n",
            "3      Wulff ,  Colin 2002-05-03   22\n",
            "4  Kover ,  Christine 1974-06-30   50\n"
          ]
        }
      ]
    },
    {
      "cell_type": "code",
      "source": [
        "# Group by 'TIER' and calculate total and average out-of-pocket responsibility\n",
        "tier_summary = df.groupby('TIER')['PATIENT RESPONSIBILITY'].agg(['sum', 'mean']).reset_index()\n",
        "\n",
        "# Display the results\n",
        "print(tier_summary)\n",
        "\n",
        "# Optional: Visualize the data using bar chart\n",
        "import matplotlib.pyplot as plt\n",
        "tier_summary.plot(x='TIER', y='sum', kind='bar', title='Total Out-of-Pocket Revenue by Insurance Tier')\n",
        "plt.ylabel('Total Revenue ($)')\n",
        "plt.show()\n",
        "\n",
        "tier_summary.plot(x='TIER', y='mean', kind='bar', title='Average Out-of-Pocket Cost by Insurance Tier')\n",
        "plt.ylabel('Average Revenue ($)')\n",
        "plt.show()\n"
      ],
      "metadata": {
        "colab": {
          "base_uri": "https://localhost:8080/",
          "height": 1000
        },
        "collapsed": true,
        "id": "EBtJ2aqHWG2P",
        "outputId": "97f72b20-b687-4c48-e12e-b33df44681fd"
      },
      "execution_count": 8,
      "outputs": [
        {
          "output_type": "stream",
          "name": "stdout",
          "text": [
            "     TIER         sum        mean\n",
            "0  TIER 1    75849.52   14.381782\n",
            "1  TIER 2  1020628.13  153.178468\n",
            "2  TIER 3  1977064.07  304.773250\n"
          ]
        },
        {
          "output_type": "display_data",
          "data": {
            "text/plain": [
              "<Figure size 640x480 with 1 Axes>"
            ],
            "image/png": "[encoded data removed]"
          },
          "metadata": {}
        },
        {
          "output_type": "display_data",
          "data": {
            "text/plain": [
              "<Figure size 640x480 with 1 Axes>"
            ],
            "image/png": "[encoded data removed]"
          },
          "metadata": {}
        }
      ]
    },
    {
      "cell_type": "code",
      "source": [
        "# Group by 'INSURENCE COMPANY' and calculate total and average out-of-pocket responsibility\n",
        "insurance_summary = df.groupby('INSURENCE COMPANY')['PATIENT RESPONSIBILITY'].agg(['sum', 'mean']).reset_index()\n",
        "\n",
        "# Renaming columns for clarity\n",
        "insurance_summary.columns = ['Insurance Company', 'Total Out-of-Pocket Revenue', 'Average Out-of-Pocket Revenue']\n",
        "\n",
        "# Display the result\n",
        "print(insurance_summary)\n"
      ],
      "metadata": {
        "colab": {
          "base_uri": "https://localhost:8080/"
        },
        "id": "UviJ8z7uoMrY",
        "outputId": "0ff3e1e1-2422-4162-c795-3ad681262525"
      },
      "execution_count": 9,
      "outputs": [
        {
          "output_type": "stream",
          "name": "stdout",
          "text": [
            "      Insurance Company  Total Out-of-Pocket Revenue  \\\n",
            "0    90 Degree Benefits                      1066.01   \n",
            "1     AHCCCS Mercy Care                         0.00   \n",
            "2                  APWU                       418.60   \n",
            "3            ASR Health                       171.01   \n",
            "4                 Aetna                    100359.51   \n",
            "..                  ...                          ...   \n",
            "146      Veterans Admin                         0.00   \n",
            "147             Web TPA                      2641.74   \n",
            "148            Wellcare                      1530.00   \n",
            "149             Wellnet                       290.00   \n",
            "150    Zelis Healthcare                       145.00   \n",
            "\n",
            "     Average Out-of-Pocket Revenue  \n",
            "0                       152.287143  \n",
            "1                         0.000000  \n",
            "2                       209.300000  \n",
            "3                       171.010000  \n",
            "4                       134.710752  \n",
            "..                             ...  \n",
            "146                       0.000000  \n",
            "147                     146.763333  \n",
            "148                      26.379310  \n",
            "149                     145.000000  \n",
            "150                     145.000000  \n",
            "\n",
            "[151 rows x 3 columns]\n"
          ]
        }
      ]
    },
    {
      "cell_type": "code",
      "source": [
        "# Convert DOB to age\n",
        "df['DOB'] = pd.to_datetime(df['DOB'], errors='coerce')  # Convert DOB to datetime\n",
        "df['Age'] = (pd.to_datetime('today') - df['DOB']).dt.days // 365  # Calculate age in years\n",
        "\n",
        "# Create age groups\n",
        "bins = [18, 30, 50, 70, 100]\n",
        "labels = ['18-30', '31-50', '51-70', '71+']\n",
        "df['Age Group'] = pd.cut(df['Age'], bins=bins, labels=labels, right=False)\n",
        "\n",
        "# Group by age group and calculate total and average out-of-pocket costs\n",
        "age_summary = df.groupby('Age Group')['PATIENT RESPONSIBILITY'].agg(['sum', 'mean']).reset_index()\n",
        "\n",
        "# Renaming columns for clarity\n",
        "age_summary.columns = ['Age Group', 'Total Out-of-Pocket Revenue', 'Average Out-of-Pocket Revenue']\n",
        "\n",
        "# Display the result\n",
        "print(age_summary)\n",
        "\n",
        "# Correlation between age and out-of-pocket cost\n",
        "correlation = df['Age'].corr(df['PATIENT RESPONSIBILITY'])\n",
        "print(f\"Correlation between age and out-of-pocket cost: {correlation}\")\n"
      ],
      "metadata": {
        "colab": {
          "base_uri": "https://localhost:8080/"
        },
        "collapsed": true,
        "id": "lwUrTR9eoQZf",
        "outputId": "d6660a00-3277-420d-9656-d5b30ccbfb6e"
      },
      "execution_count": 13,
      "outputs": [
        {
          "output_type": "stream",
          "name": "stdout",
          "text": [
            "  Age Group  Total Out-of-Pocket Revenue  Average Out-of-Pocket Revenue\n",
            "0     18-30                    239838.24                     195.786318\n",
            "1     31-50                   1185169.26                     192.585190\n",
            "2     51-70                   1306566.74                     167.251247\n",
            "3       71+                    321579.84                     101.797987\n",
            "Correlation between age and out-of-pocket cost: -0.2632948567843464\n"
          ]
        },
        {
          "output_type": "stream",
          "name": "stderr",
          "text": [
            "<ipython-input-13-386e6236bc5e>:11: FutureWarning: The default of observed=False is deprecated and will be changed to True in a future version of pandas. Pass observed=False to retain current behavior or observed=True to adopt the future default and silence this warning.\n",
            "  age_summary = df.groupby('Age Group')['PATIENT RESPONSIBILITY'].agg(['sum', 'mean']).reset_index()\n"
          ]
        }
      ]
    },
    {
      "cell_type": "code",
      "source": [
        "# Correctly filter out self-pay patients by including the space after 'Self Pay'\n",
        "self_pay_patients = df[df['INSURENCE COMPANY'].str.contains('Self Pay', case=False, na=False)]\n",
        "\n",
        "# Calculate total out-of-pocket revenue for self-pay patients\n",
        "total_self_pay_revenue = self_pay_patients['PATIENT RESPONSIBILITY'].sum()\n",
        "\n",
        "# Calculate total out-of-pocket revenue for all patients\n",
        "total_out_of_pocket_revenue = df['PATIENT RESPONSIBILITY'].sum()\n",
        "\n",
        "# Calculate the percentage of self-pay revenue\n",
        "self_pay_percentage = (total_self_pay_revenue / total_out_of_pocket_revenue) * 100\n",
        "\n",
        "print(f\"Total Self-Pay Revenue: ${total_self_pay_revenue}\")\n",
        "print(f\"Total Out-of-Pocket Revenue: ${total_out_of_pocket_revenue}\")\n",
        "print(f\"Self-Pay Revenue Percentage: {self_pay_percentage:.2f}%\")\n"
      ],
      "metadata": {
        "colab": {
          "base_uri": "https://localhost:8080/"
        },
        "id": "GSc_YQ6OomMX",
        "outputId": "0ac6796f-1be6-455a-b11e-c90769408ba3"
      },
      "execution_count": 11,
      "outputs": [
        {
          "output_type": "stream",
          "name": "stdout",
          "text": [
            "Total Self-Pay Revenue: $1635009.0\n",
            "Total Out-of-Pocket Revenue: $3073541.7199999997\n",
            "Self-Pay Revenue Percentage: 53.20%\n"
          ]
        }
      ]
    },
    {
      "cell_type": "code",
      "source": [
        "tier_summary = df.groupby('TIER')['PATIENT RESPONSIBILITY'].agg(['sum', 'mean']).reset_index()\n",
        "\n",
        "# Renaming the columns for better clarity\n",
        "tier_summary.columns = ['TIER', 'Total Out-of-Pocket Revenue', 'Average Out-of-Pocket Revenue']\n",
        "\n",
        "# Check the columns of tier_summary\n",
        "print(tier_summary.columns)\n"
      ],
      "metadata": {
        "colab": {
          "base_uri": "https://localhost:8080/"
        },
        "id": "-rIYDpfopEGN",
        "outputId": "8dcea09c-4f2b-4d98-e255-65dc4a4550d0"
      },
      "execution_count": 14,
      "outputs": [
        {
          "output_type": "stream",
          "name": "stdout",
          "text": [
            "Index(['TIER', 'Total Out-of-Pocket Revenue', 'Average Out-of-Pocket Revenue'], dtype='object')\n"
          ]
        }
      ]
    },
    {
      "cell_type": "code",
      "source": [
        "tier_summary = df.groupby('TIER')['PATIENT RESPONSIBILITY'].agg(['sum', 'mean']).reset_index()\n",
        "\n",
        "# Renaming the columns for better clarity\n",
        "tier_summary.columns = ['TIER', 'Total Out-of-Pocket Revenue', 'Average Out-of-Pocket Revenue']\n",
        "\n",
        "# Check the columns of tier_summary\n",
        "print(tier_summary.columns)\n"
      ],
      "metadata": {
        "colab": {
          "base_uri": "https://localhost:8080/"
        },
        "id": "cnaDNBWRpG73",
        "outputId": "ab18c934-40a9-49bb-d31f-e3522ff06683"
      },
      "execution_count": 15,
      "outputs": [
        {
          "output_type": "stream",
          "name": "stdout",
          "text": [
            "Index(['TIER', 'Total Out-of-Pocket Revenue', 'Average Out-of-Pocket Revenue'], dtype='object')\n"
          ]
        }
      ]
    },
    {
      "cell_type": "code",
      "source": [
        "import matplotlib.pyplot as plt\n",
        "\n",
        "# Bar chart for out-of-pocket revenue by tier\n",
        "tier_summary.plot(kind='bar', x='TIER', y='Total Out-of-Pocket Revenue', color='skyblue', legend=False)\n",
        "plt.title('Out-of-Pocket Revenue by Insurance Tier')\n",
        "plt.xlabel('Insurance Tier')\n",
        "plt.ylabel('Total Out-of-Pocket Revenue')\n",
        "plt.xticks(rotation=45)\n",
        "plt.show()\n",
        "\n",
        "# Bar chart for out-of-pocket revenue by insurance company\n",
        "insurance_summary.plot(kind='bar', x='Insurance Company', y='Total Out-of-Pocket Revenue', color='lightgreen', legend=False)\n",
        "plt.title('Out-of-Pocket Revenue by Insurance Company')\n",
        "plt.xlabel('Insurance Company')\n",
        "plt.ylabel('Total Out-of-Pocket Revenue')\n",
        "plt.xticks(rotation=45)\n",
        "plt.show()\n"
      ],
      "metadata": {
        "colab": {
          "base_uri": "https://localhost:8080/",
          "height": 572
        },
        "collapsed": true,
        "id": "FfEgHwsJpKu1",
        "outputId": "05be83d4-bc7b-4dc2-8de9-0891889266a4"
      },
      "execution_count": 14,
      "outputs": [
        {
          "output_type": "error",
          "ename": "KeyError",
          "evalue": "'Total Out-of-Pocket Revenue'",
          "traceback": [
            "\u001b[0;31m---------------------------------------------------------------------------\u001b[0m",
            "\u001b[0;31mKeyError\u001b[0m                                  Traceback (most recent call last)",
            "\u001b[0;32m/usr/local/lib/python3.11/dist-packages/pandas/core/indexes/base.py\u001b[0m in \u001b[0;36mget_loc\u001b[0;34m(self, key)\u001b[0m\n\u001b[1;32m   3804\u001b[0m         \u001b[0;32mtry\u001b[0m\u001b[0;34m:\u001b[0m\u001b[0;34m\u001b[0m\u001b[0;34m\u001b[0m\u001b[0m\n\u001b[0;32m-> 3805\u001b[0;31m             \u001b[0;32mreturn\u001b[0m \u001b[0mself\u001b[0m\u001b[0;34m.\u001b[0m\u001b[0m_engine\u001b[0m\u001b[0;34m.\u001b[0m\u001b[0mget_loc\u001b[0m\u001b[0;34m(\u001b[0m\u001b[0mcasted_key\u001b[0m\u001b[0;34m)\u001b[0m\u001b[0;34m\u001b[0m\u001b[0;34m\u001b[0m\u001b[0m\n\u001b[0m\u001b[1;32m   3806\u001b[0m         \u001b[0;32mexcept\u001b[0m \u001b[0mKeyError\u001b[0m \u001b[0;32mas\u001b[0m \u001b[0merr\u001b[0m\u001b[0;34m:\u001b[0m\u001b[0;34m\u001b[0m\u001b[0;34m\u001b[0m\u001b[0m\n",
            "\u001b[0;32mindex.pyx\u001b[0m in \u001b[0;36mpandas._libs.index.IndexEngine.get_loc\u001b[0;34m()\u001b[0m\n",
            "\u001b[0;32mindex.pyx\u001b[0m in \u001b[0;36mpandas._libs.index.IndexEngine.get_loc\u001b[0;34m()\u001b[0m\n",
            "\u001b[0;32mpandas/_libs/hashtable_class_helper.pxi\u001b[0m in \u001b[0;36mpandas._libs.hashtable.PyObjectHashTable.get_item\u001b[0;34m()\u001b[0m\n",
            "\u001b[0;32mpandas/_libs/hashtable_class_helper.pxi\u001b[0m in \u001b[0;36mpandas._libs.hashtable.PyObjectHashTable.get_item\u001b[0;34m()\u001b[0m\n",
            "\u001b[0;31mKeyError\u001b[0m: 'Total Out-of-Pocket Revenue'",
            "\nThe above exception was the direct cause of the following exception:\n",
            "\u001b[0;31mKeyError\u001b[0m                                  Traceback (most recent call last)",
            "\u001b[0;32m<ipython-input-14-1298c32b3d90>\u001b[0m in \u001b[0;36m<cell line: 0>\u001b[0;34m()\u001b[0m\n\u001b[1;32m      2\u001b[0m \u001b[0;34m\u001b[0m\u001b[0m\n\u001b[1;32m      3\u001b[0m \u001b[0;31m# Bar chart for out-of-pocket revenue by tier\u001b[0m\u001b[0;34m\u001b[0m\u001b[0;34m\u001b[0m\u001b[0m\n\u001b[0;32m----> 4\u001b[0;31m \u001b[0mtier_summary\u001b[0m\u001b[0;34m.\u001b[0m\u001b[0mplot\u001b[0m\u001b[0;34m(\u001b[0m\u001b[0mkind\u001b[0m\u001b[0;34m=\u001b[0m\u001b[0;34m'bar'\u001b[0m\u001b[0;34m,\u001b[0m \u001b[0mx\u001b[0m\u001b[0;34m=\u001b[0m\u001b[0;34m'TIER'\u001b[0m\u001b[0;34m,\u001b[0m \u001b[0my\u001b[0m\u001b[0;34m=\u001b[0m\u001b[0;34m'Total Out-of-Pocket Revenue'\u001b[0m\u001b[0;34m,\u001b[0m \u001b[0mcolor\u001b[0m\u001b[0;34m=\u001b[0m\u001b[0;34m'skyblue'\u001b[0m\u001b[0;34m,\u001b[0m \u001b[0mlegend\u001b[0m\u001b[0;34m=\u001b[0m\u001b[0;32mFalse\u001b[0m\u001b[0;34m)\u001b[0m\u001b[0;34m\u001b[0m\u001b[0;34m\u001b[0m\u001b[0m\n\u001b[0m\u001b[1;32m      5\u001b[0m \u001b[0mplt\u001b[0m\u001b[0;34m.\u001b[0m\u001b[0mtitle\u001b[0m\u001b[0;34m(\u001b[0m\u001b[0;34m'Out-of-Pocket Revenue by Insurance Tier'\u001b[0m\u001b[0;34m)\u001b[0m\u001b[0;34m\u001b[0m\u001b[0;34m\u001b[0m\u001b[0m\n\u001b[1;32m      6\u001b[0m \u001b[0mplt\u001b[0m\u001b[0;34m.\u001b[0m\u001b[0mxlabel\u001b[0m\u001b[0;34m(\u001b[0m\u001b[0;34m'Insurance Tier'\u001b[0m\u001b[0;34m)\u001b[0m\u001b[0;34m\u001b[0m\u001b[0;34m\u001b[0m\u001b[0m\n",
            "\u001b[0;32m/usr/local/lib/python3.11/dist-packages/pandas/plotting/_core.py\u001b[0m in \u001b[0;36m__call__\u001b[0;34m(self, *args, **kwargs)\u001b[0m\n\u001b[1;32m   1014\u001b[0m \u001b[0;34m\u001b[0m\u001b[0m\n\u001b[1;32m   1015\u001b[0m                 \u001b[0;31m# don't overwrite\u001b[0m\u001b[0;34m\u001b[0m\u001b[0;34m\u001b[0m\u001b[0m\n\u001b[0;32m-> 1016\u001b[0;31m                 \u001b[0mdata\u001b[0m \u001b[0;34m=\u001b[0m \u001b[0mdata\u001b[0m\u001b[0;34m[\u001b[0m\u001b[0my\u001b[0m\u001b[0;34m]\u001b[0m\u001b[0;34m.\u001b[0m\u001b[0mcopy\u001b[0m\u001b[0;34m(\u001b[0m\u001b[0;34m)\u001b[0m\u001b[0;34m\u001b[0m\u001b[0;34m\u001b[0m\u001b[0m\n\u001b[0m\u001b[1;32m   1017\u001b[0m \u001b[0;34m\u001b[0m\u001b[0m\n\u001b[1;32m   1018\u001b[0m                 \u001b[0;32mif\u001b[0m \u001b[0misinstance\u001b[0m\u001b[0;34m(\u001b[0m\u001b[0mdata\u001b[0m\u001b[0;34m,\u001b[0m \u001b[0mABCSeries\u001b[0m\u001b[0;34m)\u001b[0m\u001b[0;34m:\u001b[0m\u001b[0;34m\u001b[0m\u001b[0;34m\u001b[0m\u001b[0m\n",
            "\u001b[0;32m/usr/local/lib/python3.11/dist-packages/pandas/core/frame.py\u001b[0m in \u001b[0;36m__getitem__\u001b[0;34m(self, key)\u001b[0m\n\u001b[1;32m   4100\u001b[0m             \u001b[0;32mif\u001b[0m \u001b[0mself\u001b[0m\u001b[0;34m.\u001b[0m\u001b[0mcolumns\u001b[0m\u001b[0;34m.\u001b[0m\u001b[0mnlevels\u001b[0m \u001b[0;34m>\u001b[0m \u001b[0;36m1\u001b[0m\u001b[0;34m:\u001b[0m\u001b[0;34m\u001b[0m\u001b[0;34m\u001b[0m\u001b[0m\n\u001b[1;32m   4101\u001b[0m                 \u001b[0;32mreturn\u001b[0m \u001b[0mself\u001b[0m\u001b[0;34m.\u001b[0m\u001b[0m_getitem_multilevel\u001b[0m\u001b[0;34m(\u001b[0m\u001b[0mkey\u001b[0m\u001b[0;34m)\u001b[0m\u001b[0;34m\u001b[0m\u001b[0;34m\u001b[0m\u001b[0m\n\u001b[0;32m-> 4102\u001b[0;31m             \u001b[0mindexer\u001b[0m \u001b[0;34m=\u001b[0m \u001b[0mself\u001b[0m\u001b[0;34m.\u001b[0m\u001b[0mcolumns\u001b[0m\u001b[0;34m.\u001b[0m\u001b[0mget_loc\u001b[0m\u001b[0;34m(\u001b[0m\u001b[0mkey\u001b[0m\u001b[0;34m)\u001b[0m\u001b[0;34m\u001b[0m\u001b[0;34m\u001b[0m\u001b[0m\n\u001b[0m\u001b[1;32m   4103\u001b[0m             \u001b[0;32mif\u001b[0m \u001b[0mis_integer\u001b[0m\u001b[0;34m(\u001b[0m\u001b[0mindexer\u001b[0m\u001b[0;34m)\u001b[0m\u001b[0;34m:\u001b[0m\u001b[0;34m\u001b[0m\u001b[0;34m\u001b[0m\u001b[0m\n\u001b[1;32m   4104\u001b[0m                 \u001b[0mindexer\u001b[0m \u001b[0;34m=\u001b[0m \u001b[0;34m[\u001b[0m\u001b[0mindexer\u001b[0m\u001b[0;34m]\u001b[0m\u001b[0;34m\u001b[0m\u001b[0;34m\u001b[0m\u001b[0m\n",
            "\u001b[0;32m/usr/local/lib/python3.11/dist-packages/pandas/core/indexes/base.py\u001b[0m in \u001b[0;36mget_loc\u001b[0;34m(self, key)\u001b[0m\n\u001b[1;32m   3810\u001b[0m             ):\n\u001b[1;32m   3811\u001b[0m                 \u001b[0;32mraise\u001b[0m \u001b[0mInvalidIndexError\u001b[0m\u001b[0;34m(\u001b[0m\u001b[0mkey\u001b[0m\u001b[0;34m)\u001b[0m\u001b[0;34m\u001b[0m\u001b[0;34m\u001b[0m\u001b[0m\n\u001b[0;32m-> 3812\u001b[0;31m             \u001b[0;32mraise\u001b[0m \u001b[0mKeyError\u001b[0m\u001b[0;34m(\u001b[0m\u001b[0mkey\u001b[0m\u001b[0;34m)\u001b[0m \u001b[0;32mfrom\u001b[0m \u001b[0merr\u001b[0m\u001b[0;34m\u001b[0m\u001b[0;34m\u001b[0m\u001b[0m\n\u001b[0m\u001b[1;32m   3813\u001b[0m         \u001b[0;32mexcept\u001b[0m \u001b[0mTypeError\u001b[0m\u001b[0;34m:\u001b[0m\u001b[0;34m\u001b[0m\u001b[0;34m\u001b[0m\u001b[0m\n\u001b[1;32m   3814\u001b[0m             \u001b[0;31m# If we have a listlike key, _check_indexing_error will raise\u001b[0m\u001b[0;34m\u001b[0m\u001b[0;34m\u001b[0m\u001b[0m\n",
            "\u001b[0;31mKeyError\u001b[0m: 'Total Out-of-Pocket Revenue'"
          ]
        }
      ]
    },
    {
      "cell_type": "code",
      "source": [
        "# Scatter plot for age vs out-of-pocket cost\n",
        "plt.scatter(df['Age'], df['PATIENT RESPONSIBILITY'], alpha=0.5, color='orange')\n",
        "plt.title('Age vs Out-of-Pocket Cost')\n",
        "plt.xlabel('Age')\n",
        "plt.ylabel('Out-of-Pocket Cost')\n",
        "plt.show()\n"
      ],
      "metadata": {
        "colab": {
          "base_uri": "https://localhost:8080/",
          "height": 572
        },
        "collapsed": true,
        "id": "pKLq0_kOqEWs",
        "outputId": "f18e139a-050b-49c1-d3f6-949552f478e6"
      },
      "execution_count": 11,
      "outputs": [
        {
          "output_type": "error",
          "ename": "KeyError",
          "evalue": "'Age'",
          "traceback": [
            "\u001b[0;31m---------------------------------------------------------------------------\u001b[0m",
            "\u001b[0;31mKeyError\u001b[0m                                  Traceback (most recent call last)",
            "\u001b[0;32m/usr/local/lib/python3.11/dist-packages/pandas/core/indexes/base.py\u001b[0m in \u001b[0;36mget_loc\u001b[0;34m(self, key)\u001b[0m\n\u001b[1;32m   3804\u001b[0m         \u001b[0;32mtry\u001b[0m\u001b[0;34m:\u001b[0m\u001b[0;34m\u001b[0m\u001b[0;34m\u001b[0m\u001b[0m\n\u001b[0;32m-> 3805\u001b[0;31m             \u001b[0;32mreturn\u001b[0m \u001b[0mself\u001b[0m\u001b[0;34m.\u001b[0m\u001b[0m_engine\u001b[0m\u001b[0;34m.\u001b[0m\u001b[0mget_loc\u001b[0m\u001b[0;34m(\u001b[0m\u001b[0mcasted_key\u001b[0m\u001b[0;34m)\u001b[0m\u001b[0;34m\u001b[0m\u001b[0;34m\u001b[0m\u001b[0m\n\u001b[0m\u001b[1;32m   3806\u001b[0m         \u001b[0;32mexcept\u001b[0m \u001b[0mKeyError\u001b[0m \u001b[0;32mas\u001b[0m \u001b[0merr\u001b[0m\u001b[0;34m:\u001b[0m\u001b[0;34m\u001b[0m\u001b[0;34m\u001b[0m\u001b[0m\n",
            "\u001b[0;32mindex.pyx\u001b[0m in \u001b[0;36mpandas._libs.index.IndexEngine.get_loc\u001b[0;34m()\u001b[0m\n",
            "\u001b[0;32mindex.pyx\u001b[0m in \u001b[0;36mpandas._libs.index.IndexEngine.get_loc\u001b[0;34m()\u001b[0m\n",
            "\u001b[0;32mpandas/_libs/hashtable_class_helper.pxi\u001b[0m in \u001b[0;36mpandas._libs.hashtable.PyObjectHashTable.get_item\u001b[0;34m()\u001b[0m\n",
            "\u001b[0;32mpandas/_libs/hashtable_class_helper.pxi\u001b[0m in \u001b[0;36mpandas._libs.hashtable.PyObjectHashTable.get_item\u001b[0;34m()\u001b[0m\n",
            "\u001b[0;31mKeyError\u001b[0m: 'Age'",
            "\nThe above exception was the direct cause of the following exception:\n",
            "\u001b[0;31mKeyError\u001b[0m                                  Traceback (most recent call last)",
            "\u001b[0;32m<ipython-input-11-38f04a7dda7f>\u001b[0m in \u001b[0;36m<cell line: 0>\u001b[0;34m()\u001b[0m\n\u001b[1;32m      1\u001b[0m \u001b[0;31m# Scatter plot for age vs out-of-pocket cost\u001b[0m\u001b[0;34m\u001b[0m\u001b[0;34m\u001b[0m\u001b[0m\n\u001b[0;32m----> 2\u001b[0;31m \u001b[0mplt\u001b[0m\u001b[0;34m.\u001b[0m\u001b[0mscatter\u001b[0m\u001b[0;34m(\u001b[0m\u001b[0mdf\u001b[0m\u001b[0;34m[\u001b[0m\u001b[0;34m'Age'\u001b[0m\u001b[0;34m]\u001b[0m\u001b[0;34m,\u001b[0m \u001b[0mdf\u001b[0m\u001b[0;34m[\u001b[0m\u001b[0;34m'PATIENT RESPONSIBILITY'\u001b[0m\u001b[0;34m]\u001b[0m\u001b[0;34m,\u001b[0m \u001b[0malpha\u001b[0m\u001b[0;34m=\u001b[0m\u001b[0;36m0.5\u001b[0m\u001b[0;34m,\u001b[0m \u001b[0mcolor\u001b[0m\u001b[0;34m=\u001b[0m\u001b[0;34m'orange'\u001b[0m\u001b[0;34m)\u001b[0m\u001b[0;34m\u001b[0m\u001b[0;34m\u001b[0m\u001b[0m\n\u001b[0m\u001b[1;32m      3\u001b[0m \u001b[0mplt\u001b[0m\u001b[0;34m.\u001b[0m\u001b[0mtitle\u001b[0m\u001b[0;34m(\u001b[0m\u001b[0;34m'Age vs Out-of-Pocket Cost'\u001b[0m\u001b[0;34m)\u001b[0m\u001b[0;34m\u001b[0m\u001b[0;34m\u001b[0m\u001b[0m\n\u001b[1;32m      4\u001b[0m \u001b[0mplt\u001b[0m\u001b[0;34m.\u001b[0m\u001b[0mxlabel\u001b[0m\u001b[0;34m(\u001b[0m\u001b[0;34m'Age'\u001b[0m\u001b[0;34m)\u001b[0m\u001b[0;34m\u001b[0m\u001b[0;34m\u001b[0m\u001b[0m\n\u001b[1;32m      5\u001b[0m \u001b[0mplt\u001b[0m\u001b[0;34m.\u001b[0m\u001b[0mylabel\u001b[0m\u001b[0;34m(\u001b[0m\u001b[0;34m'Out-of-Pocket Cost'\u001b[0m\u001b[0;34m)\u001b[0m\u001b[0;34m\u001b[0m\u001b[0;34m\u001b[0m\u001b[0m\n",
            "\u001b[0;32m/usr/local/lib/python3.11/dist-packages/pandas/core/frame.py\u001b[0m in \u001b[0;36m__getitem__\u001b[0;34m(self, key)\u001b[0m\n\u001b[1;32m   4100\u001b[0m             \u001b[0;32mif\u001b[0m \u001b[0mself\u001b[0m\u001b[0;34m.\u001b[0m\u001b[0mcolumns\u001b[0m\u001b[0;34m.\u001b[0m\u001b[0mnlevels\u001b[0m \u001b[0;34m>\u001b[0m \u001b[0;36m1\u001b[0m\u001b[0;34m:\u001b[0m\u001b[0;34m\u001b[0m\u001b[0;34m\u001b[0m\u001b[0m\n\u001b[1;32m   4101\u001b[0m                 \u001b[0;32mreturn\u001b[0m \u001b[0mself\u001b[0m\u001b[0;34m.\u001b[0m\u001b[0m_getitem_multilevel\u001b[0m\u001b[0;34m(\u001b[0m\u001b[0mkey\u001b[0m\u001b[0;34m)\u001b[0m\u001b[0;34m\u001b[0m\u001b[0;34m\u001b[0m\u001b[0m\n\u001b[0;32m-> 4102\u001b[0;31m             \u001b[0mindexer\u001b[0m \u001b[0;34m=\u001b[0m \u001b[0mself\u001b[0m\u001b[0;34m.\u001b[0m\u001b[0mcolumns\u001b[0m\u001b[0;34m.\u001b[0m\u001b[0mget_loc\u001b[0m\u001b[0;34m(\u001b[0m\u001b[0mkey\u001b[0m\u001b[0;34m)\u001b[0m\u001b[0;34m\u001b[0m\u001b[0;34m\u001b[0m\u001b[0m\n\u001b[0m\u001b[1;32m   4103\u001b[0m             \u001b[0;32mif\u001b[0m \u001b[0mis_integer\u001b[0m\u001b[0;34m(\u001b[0m\u001b[0mindexer\u001b[0m\u001b[0;34m)\u001b[0m\u001b[0;34m:\u001b[0m\u001b[0;34m\u001b[0m\u001b[0;34m\u001b[0m\u001b[0m\n\u001b[1;32m   4104\u001b[0m                 \u001b[0mindexer\u001b[0m \u001b[0;34m=\u001b[0m \u001b[0;34m[\u001b[0m\u001b[0mindexer\u001b[0m\u001b[0;34m]\u001b[0m\u001b[0;34m\u001b[0m\u001b[0;34m\u001b[0m\u001b[0m\n",
            "\u001b[0;32m/usr/local/lib/python3.11/dist-packages/pandas/core/indexes/base.py\u001b[0m in \u001b[0;36mget_loc\u001b[0;34m(self, key)\u001b[0m\n\u001b[1;32m   3810\u001b[0m             ):\n\u001b[1;32m   3811\u001b[0m                 \u001b[0;32mraise\u001b[0m \u001b[0mInvalidIndexError\u001b[0m\u001b[0;34m(\u001b[0m\u001b[0mkey\u001b[0m\u001b[0;34m)\u001b[0m\u001b[0;34m\u001b[0m\u001b[0;34m\u001b[0m\u001b[0m\n\u001b[0;32m-> 3812\u001b[0;31m             \u001b[0;32mraise\u001b[0m \u001b[0mKeyError\u001b[0m\u001b[0;34m(\u001b[0m\u001b[0mkey\u001b[0m\u001b[0;34m)\u001b[0m \u001b[0;32mfrom\u001b[0m \u001b[0merr\u001b[0m\u001b[0;34m\u001b[0m\u001b[0;34m\u001b[0m\u001b[0m\n\u001b[0m\u001b[1;32m   3813\u001b[0m         \u001b[0;32mexcept\u001b[0m \u001b[0mTypeError\u001b[0m\u001b[0;34m:\u001b[0m\u001b[0;34m\u001b[0m\u001b[0;34m\u001b[0m\u001b[0m\n\u001b[1;32m   3814\u001b[0m             \u001b[0;31m# If we have a listlike key, _check_indexing_error will raise\u001b[0m\u001b[0;34m\u001b[0m\u001b[0;34m\u001b[0m\u001b[0m\n",
            "\u001b[0;31mKeyError\u001b[0m: 'Age'"
          ]
        }
      ]
    }
  ]
}